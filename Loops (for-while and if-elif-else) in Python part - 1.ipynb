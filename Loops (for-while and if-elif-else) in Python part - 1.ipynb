{
 "cells": [
  {
   "cell_type": "code",
   "execution_count": 1,
   "id": "86049c42",
   "metadata": {},
   "outputs": [
    {
     "name": "stdout",
     "output_type": "stream",
     "text": [
      "b is greater than a\n"
     ]
    }
   ],
   "source": [
    "a=12\n",
    "b=74\n",
    "if b>a:\n",
    "    print(\"b is greater than a\")"
   ]
  },
  {
   "cell_type": "code",
   "execution_count": 2,
   "id": "0235143a",
   "metadata": {},
   "outputs": [],
   "source": [
    "a=57\n",
    "b=29\n",
    "if b>a:\n",
    "    print(\"b is greater than a\") # Condition is False"
   ]
  },
  {
   "cell_type": "code",
   "execution_count": 3,
   "id": "df4b0358",
   "metadata": {},
   "outputs": [],
   "source": [
    "a=57\n",
    "b=57\n",
    "if b>a:\n",
    "    print(\"b is greater than a\")  # Condition is False"
   ]
  },
  {
   "cell_type": "code",
   "execution_count": 4,
   "id": "ab88bab4",
   "metadata": {},
   "outputs": [
    {
     "ename": "IndentationError",
     "evalue": "expected an indented block (Temp/ipykernel_16200/340982305.py, line 4)",
     "output_type": "error",
     "traceback": [
      "\u001b[1;36m  File \u001b[1;32m\"C:\\Users\\Lenovo\\AppData\\Local\\Temp/ipykernel_16200/340982305.py\"\u001b[1;36m, line \u001b[1;32m4\u001b[0m\n\u001b[1;33m    print(\"b is greater than a\")  # IndentationError: space for print is required\u001b[0m\n\u001b[1;37m    ^\u001b[0m\n\u001b[1;31mIndentationError\u001b[0m\u001b[1;31m:\u001b[0m expected an indented block\n"
     ]
    }
   ],
   "source": [
    "a=57\n",
    "b=57\n",
    "if b>a:\n",
    "print(\"b is greater than a\")  # IndentationError: space for print is required"
   ]
  },
  {
   "cell_type": "code",
   "execution_count": 5,
   "id": "827b1974",
   "metadata": {},
   "outputs": [
    {
     "name": "stdout",
     "output_type": "stream",
     "text": [
      "a is equal to b\n"
     ]
    }
   ],
   "source": [
    "a=57\n",
    "b=57\n",
    "if b==a:\n",
    "    print(\"a is equal to b\") "
   ]
  },
  {
   "cell_type": "code",
   "execution_count": null,
   "id": "d46ceee7",
   "metadata": {},
   "outputs": [],
   "source": [
    "a=20\n",
    "b=30\n",
    "if b!=a:\n",
    "    print(\"b is not equal to a\") "
   ]
  },
  {
   "cell_type": "code",
   "execution_count": 6,
   "id": "37a68f41",
   "metadata": {},
   "outputs": [
    {
     "name": "stdout",
     "output_type": "stream",
     "text": [
      "a is lesser than b\n"
     ]
    }
   ],
   "source": [
    "a=7\n",
    "b=12\n",
    "if a<b:\n",
    "    print(\"a is lesser than b\")"
   ]
  },
  {
   "cell_type": "code",
   "execution_count": 8,
   "id": "059909d3",
   "metadata": {},
   "outputs": [
    {
     "name": "stdout",
     "output_type": "stream",
     "text": [
      "a is lesser than or equal to b\n"
     ]
    }
   ],
   "source": [
    "a=19\n",
    "b=19\n",
    "if a<=b:\n",
    "    print(\"a is lesser than or equal to b\")"
   ]
  },
  {
   "cell_type": "code",
   "execution_count": 9,
   "id": "289ea87d",
   "metadata": {},
   "outputs": [
    {
     "name": "stdout",
     "output_type": "stream",
     "text": [
      "a is greater than or equal to b\n"
     ]
    }
   ],
   "source": [
    "a=7\n",
    "b=7\n",
    "if a>=b:\n",
    "    print(\"a is greater than or equal to b\")"
   ]
  },
  {
   "cell_type": "code",
   "execution_count": 10,
   "id": "461b50e0",
   "metadata": {},
   "outputs": [
    {
     "name": "stdout",
     "output_type": "stream",
     "text": [
      "b is greater\n"
     ]
    }
   ],
   "source": [
    "a=47\n",
    "b=67\n",
    "if a>b:\n",
    "    print(\"a is greater\")\n",
    "else:\n",
    "    print(\"b is greater\")"
   ]
  },
  {
   "cell_type": "code",
   "execution_count": 11,
   "id": "e3c1700b",
   "metadata": {},
   "outputs": [
    {
     "name": "stdout",
     "output_type": "stream",
     "text": [
      "b is greater\n"
     ]
    }
   ],
   "source": [
    "a=587\n",
    "b=587\n",
    "if a>b:\n",
    "    print(\"a is greater\")\n",
    "else:\n",
    "    print(\"b is greater\")"
   ]
  },
  {
   "cell_type": "code",
   "execution_count": 12,
   "id": "e3ca8f31",
   "metadata": {},
   "outputs": [
    {
     "name": "stdout",
     "output_type": "stream",
     "text": [
      "a is equal to b\n"
     ]
    }
   ],
   "source": [
    "a=7\n",
    "b=7\n",
    "if a==b:\n",
    "    print(\"a is equal to b\")\n",
    "else:\n",
    "    print(\"a is not equal to b\")"
   ]
  },
  {
   "cell_type": "code",
   "execution_count": 13,
   "id": "a128891c",
   "metadata": {},
   "outputs": [
    {
     "name": "stdout",
     "output_type": "stream",
     "text": [
      "Enter first number :7\n",
      "Enter second number :9\n",
      "b is greater\n"
     ]
    }
   ],
   "source": [
    "a=int(input(\"Enter first number :\"))\n",
    "b=int(input(\"Enter second number :\"))\n",
    "if a==b:\n",
    "    print(\" a and b are equal\")\n",
    "elif a>b:\n",
    "    print(\"a is greater\")\n",
    "else:\n",
    "    print('b is greater')"
   ]
  },
  {
   "cell_type": "code",
   "execution_count": 14,
   "id": "9d75a78d",
   "metadata": {},
   "outputs": [
    {
     "name": "stdout",
     "output_type": "stream",
     "text": [
      "enter first number :8\n",
      "enter second number :45\n",
      "b is greater\n"
     ]
    }
   ],
   "source": [
    "a=float(input(\"enter first number :\"))\n",
    "b=float(input(\"enter second number :\"))\n",
    "if a==b:\n",
    "    print(\" a and b are equal\")\n",
    "elif a>b:\n",
    "    print(\"a is greater\")\n",
    "else:\n",
    "    print('b is greater')"
   ]
  },
  {
   "cell_type": "code",
   "execution_count": 15,
   "id": "f287df28",
   "metadata": {},
   "outputs": [
    {
     "name": "stdout",
     "output_type": "stream",
     "text": [
      "a is greater\n"
     ]
    }
   ],
   "source": [
    "a=47\n",
    "b=19\n",
    "if a==b:\n",
    "    print(\" a and b are equal\")\n",
    "elif a>b:\n",
    "    print(\"a is greater\")\n",
    "else:\n",
    "    print('b is greater')"
   ]
  },
  {
   "cell_type": "code",
   "execution_count": 16,
   "id": "a727a1fc",
   "metadata": {},
   "outputs": [
    {
     "name": "stdout",
     "output_type": "stream",
     "text": [
      "Enter first number -87\n",
      "negative\n"
     ]
    }
   ],
   "source": [
    "num=float(input('Enter first number '))\n",
    "if num>=0:\n",
    "    if num==0:\n",
    "         print('zero')\n",
    "    else:\n",
    "        print('positive')\n",
    "else:\n",
    "    print ('negative')"
   ]
  },
  {
   "cell_type": "code",
   "execution_count": 17,
   "id": "d7ead228",
   "metadata": {},
   "outputs": [
    {
     "name": "stdout",
     "output_type": "stream",
     "text": [
      "Enter first number 13\n",
      "odd\n"
     ]
    }
   ],
   "source": [
    "num=float(input('Enter first number '))\n",
    "if (num % 2)==0:\n",
    "    if num==0:\n",
    "         print('zero')\n",
    "    else:\n",
    "        print('even')\n",
    "else:\n",
    "    print ('odd')"
   ]
  },
  {
   "cell_type": "code",
   "execution_count": 18,
   "id": "0f51a48b",
   "metadata": {},
   "outputs": [
    {
     "name": "stdout",
     "output_type": "stream",
     "text": [
      "Expression value is less than 200\n"
     ]
    }
   ],
   "source": [
    "var = 127\n",
    "if var < 200:\n",
    "   print (\"Expression value is less than 200\")\n",
    "   if var == 150:\n",
    "      print (\"Expression value is 150\")\n",
    "   elif var == 100:\n",
    "      print (\"Expression value is 100\")\n",
    "   elif var == 50:\n",
    "      print (\"Expression value is 50\")\n",
    "   elif var < 50:\n",
    "      print (\"Expression value is less than 50\")\n",
    "else:\n",
    "   print (\"Expression value is not found \")"
   ]
  },
  {
   "cell_type": "code",
   "execution_count": 19,
   "id": "3cbcbcbc",
   "metadata": {},
   "outputs": [
    {
     "name": "stdout",
     "output_type": "stream",
     "text": [
      "enter your age7\n",
      "Better luck next time\n"
     ]
    }
   ],
   "source": [
    "num=int(input('enter your age'))\n",
    "if num>=15:\n",
    "    if num==15:\n",
    "        print('You can drive')\n",
    "    else:\n",
    "        print('test drive required')  \n",
    "else:\n",
    "    print('Better luck next time')"
   ]
  },
  {
   "cell_type": "code",
   "execution_count": 20,
   "id": "0a0a0856",
   "metadata": {},
   "outputs": [
    {
     "name": "stdout",
     "output_type": "stream",
     "text": [
      "Enter first number: 47\n",
      "You are eligible for working\n"
     ]
    }
   ],
   "source": [
    "a=eval(input(\"Enter first number: \"))\n",
    "\n",
    "if(a<58):\n",
    "    if(a<=21):\n",
    "        print(\"You are not eligible for working\")\n",
    "    else:\n",
    "        print(\"You are eligible for working\")\n",
    "else:\n",
    "    print(\"You are retired\")"
   ]
  },
  {
   "cell_type": "code",
   "execution_count": 21,
   "id": "d062af6c",
   "metadata": {},
   "outputs": [
    {
     "name": "stdout",
     "output_type": "stream",
     "text": [
      "Expression value is positive\n",
      "divisable\n"
     ]
    }
   ],
   "source": [
    "var1 = 18\n",
    "var2 = 13\n",
    "if (var1 and var2) > 0 :\n",
    "   print (\"Expression value is positive\")\n",
    "   if (var1/var2>=0) :\n",
    "      print (\"divisable\")\n",
    "   elif(var1/var2 <0):\n",
    "      print (\"decimal quotient\")\n",
    "   elif (var1 and var2)==0 :\n",
    "      print (\"indivisble\")\n",
    "else:\n",
    "   print (\"ended my if for now\")"
   ]
  },
  {
   "cell_type": "code",
   "execution_count": 22,
   "id": "9510a6bf",
   "metadata": {},
   "outputs": [
    {
     "name": "stdout",
     "output_type": "stream",
     "text": [
      "enter your mark78\n",
      " pass with good marks\n"
     ]
    }
   ],
   "source": [
    "Mark=int(input ('enter your mark'))\n",
    "if Mark>=40:\n",
    "     if Mark==40:\n",
    "         print('just pass')\n",
    "     else:\n",
    "         print(' pass with good marks')\n",
    "else:\n",
    "    print('fail')"
   ]
  },
  {
   "cell_type": "code",
   "execution_count": 23,
   "id": "6f9d2702",
   "metadata": {},
   "outputs": [
    {
     "name": "stdout",
     "output_type": "stream",
     "text": [
      "enter a day-5\n",
      "tuesday\n"
     ]
    }
   ],
   "source": [
    "day=int(input('enter a day'))\n",
    "if day>=0:\n",
    "    if day==1:\n",
    "              print('day is monday')\n",
    "    else:\n",
    "        print('holiday')\n",
    "else:\n",
    "    print('tuesday')"
   ]
  },
  {
   "cell_type": "code",
   "execution_count": 24,
   "id": "f4b91e42",
   "metadata": {},
   "outputs": [
    {
     "name": "stdout",
     "output_type": "stream",
     "text": [
      "enter number78\n",
      "Above ten,\n",
      "and also above 20!\n"
     ]
    }
   ],
   "source": [
    "x = int(input(\"enter number\"))\n",
    "if x > 10:\n",
    "  print(\"Above ten,\")\n",
    "  if x > 20:\n",
    "   print(\"and also above 20!\")\n",
    "  else:\n",
    "   print(\"but not above 20.\")\n",
    "else:\n",
    " print(\"below 10\")"
   ]
  },
  {
   "cell_type": "code",
   "execution_count": 25,
   "id": "e9a0c664",
   "metadata": {},
   "outputs": [
    {
     "name": "stdout",
     "output_type": "stream",
     "text": [
      "enter marks:750\n",
      "good performance\n"
     ]
    }
   ],
   "source": [
    "a=float(input(\"enter marks:\"))\n",
    "if a>=500:\n",
    "    \n",
    "    if a==500:\n",
    "         print(\"average performance\") \n",
    "    else:\n",
    "        print(\"good performance\")\n",
    "else:\n",
    "       print(\"poor performance\")"
   ]
  },
  {
   "cell_type": "code",
   "execution_count": 26,
   "id": "affac530",
   "metadata": {},
   "outputs": [
    {
     "name": "stdout",
     "output_type": "stream",
     "text": [
      "enter first number751\n",
      "enter second number987\n",
      "b is greater\n"
     ]
    }
   ],
   "source": [
    "a=int(input('enter first number'))\n",
    "b=int(input('enter second number'))\n",
    "if a==b:\n",
    "    print('a is equal to b')\n",
    "elif a>b:\n",
    "    print('a is greater than b')\n",
    "else:\n",
    "    print('b is greater')"
   ]
  },
  {
   "cell_type": "code",
   "execution_count": 28,
   "id": "e813e24a",
   "metadata": {},
   "outputs": [
    {
     "name": "stdout",
     "output_type": "stream",
     "text": [
      "Both are true\n"
     ]
    }
   ],
   "source": [
    "a=79\n",
    "b=59\n",
    "c=900\n",
    "if a>b and c>a:\n",
    "    print(\"Both are true\")"
   ]
  },
  {
   "cell_type": "code",
   "execution_count": 29,
   "id": "c7d9a1ce",
   "metadata": {},
   "outputs": [
    {
     "name": "stdout",
     "output_type": "stream",
     "text": [
      "Either a or b or c is true\n"
     ]
    }
   ],
   "source": [
    "a=112\n",
    "b=87\n",
    "c=50\n",
    "if a>b or c>a:\n",
    "    print(\"Either a or b or c is true\")"
   ]
  },
  {
   "cell_type": "code",
   "execution_count": 34,
   "id": "e1c3c56b",
   "metadata": {},
   "outputs": [
    {
     "name": "stdout",
     "output_type": "stream",
     "text": [
      "enter a number-13\n",
      "enter a number-59\n",
      "enter a number-44\n",
      "not divisible\n"
     ]
    }
   ],
   "source": [
    "a=int(input('enter a number-'))\n",
    "b=int(input('enter a number-'))\n",
    "c=int(input('enter a number-'))\n",
    "if (a and b)%c==0:\n",
    "          print('a and b divisble by c')\n",
    "else:\n",
    "    print('not divisible')"
   ]
  },
  {
   "cell_type": "code",
   "execution_count": 35,
   "id": "902f9089",
   "metadata": {},
   "outputs": [
    {
     "name": "stdout",
     "output_type": "stream",
     "text": [
      "Enter your mark79\n",
      "Enter your mark89\n",
      "Enter your mark45\n",
      "pass\n"
     ]
    }
   ],
   "source": [
    "a= int(input('Enter your mark')) \n",
    "b=int(input('Enter your mark')) \n",
    "c=int(input('Enter your mark')) \n",
    "if a<=b and a>=c:\n",
    "    print('pass')"
   ]
  },
  {
   "cell_type": "code",
   "execution_count": 36,
   "id": "83ffdbfa",
   "metadata": {},
   "outputs": [
    {
     "name": "stdout",
     "output_type": "stream",
     "text": [
      "enter no. :75\n",
      "enter no. :132\n",
      "enter no. :154\n",
      "c is greater\n"
     ]
    }
   ],
   "source": [
    "a=float(input(\"enter no. :\"))\n",
    "b=float(input(\"enter no. :\"))\n",
    "c=float(input(\"enter no. :\"))\n",
    "if a>b and a>c:\n",
    "     print(\"a is greter\")\n",
    "elif b>c and b>a:\n",
    "    print(\"b is greater\")    \n",
    "else:\n",
    "     print(\"c is greater\")"
   ]
  },
  {
   "cell_type": "code",
   "execution_count": 97,
   "id": "482d03bb",
   "metadata": {},
   "outputs": [
    {
     "name": "stdout",
     "output_type": "stream",
     "text": [
      "Both are False!\n"
     ]
    }
   ],
   "source": [
    "x = 90\n",
    "y = 40\n",
    "if(x==50)or(y<30):\n",
    "    print(\"One or Both expressions are True\")\n",
    "else:\n",
    "    print(\"Both are False!\")"
   ]
  }
 ],
 "metadata": {
  "kernelspec": {
   "display_name": "Python 3 (ipykernel)",
   "language": "python",
   "name": "python3"
  },
  "language_info": {
   "codemirror_mode": {
    "name": "ipython",
    "version": 3
   },
   "file_extension": ".py",
   "mimetype": "text/x-python",
   "name": "python",
   "nbconvert_exporter": "python",
   "pygments_lexer": "ipython3",
   "version": "3.9.7"
  }
 },
 "nbformat": 4,
 "nbformat_minor": 5
}
