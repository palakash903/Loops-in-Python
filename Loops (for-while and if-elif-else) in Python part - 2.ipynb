{
 "cells": [
  {
   "cell_type": "code",
   "execution_count": 43,
   "id": "bfe60a24",
   "metadata": {},
   "outputs": [
    {
     "name": "stdout",
     "output_type": "stream",
     "text": [
      "enter a number8\n",
      "enter a number19\n",
      "enter a number2\n",
      "only one is  divisible\n"
     ]
    }
   ],
   "source": [
    "a=int(input('enter a number'))\n",
    "b=int(input('enter a number'))\n",
    "c=int(input('enter a number'))\n",
    "if (a or b)%c==0:\n",
    "    if (a and b)%c==0:\n",
    "             print('both are divsible by c')\n",
    "    else:\n",
    "         print('only one is  divisible')\n",
    "else:\n",
    "    print('both are not divisible')"
   ]
  },
  {
   "cell_type": "code",
   "execution_count": 44,
   "id": "32ef3bc4",
   "metadata": {},
   "outputs": [
    {
     "name": "stdout",
     "output_type": "stream",
     "text": [
      "enter first number7856\n",
      "enter second number876\n",
      "enter third number564\n",
      "you won a bike\n"
     ]
    }
   ],
   "source": [
    "a=int(input('enter first number'))\n",
    "b=int(input('enter second number'))\n",
    "c=int(input('enter third number'))\n",
    "if a!=b and a>b:\n",
    "    print('you won a bike')\n",
    "elif a<b:\n",
    "    print('50% off in Dominos')\n",
    "else:\n",
    "    print('better luck next time')"
   ]
  },
  {
   "cell_type": "code",
   "execution_count": 46,
   "id": "0bde6df8",
   "metadata": {},
   "outputs": [
    {
     "name": "stdout",
     "output_type": "stream",
     "text": [
      "enter temp :27\n",
      "warm weather\n"
     ]
    }
   ],
   "source": [
    "temp=float(input(\"enter temp :\"))\n",
    "if temp==25 or temp<=25:\n",
    "    print(\"coolest weather\")\n",
    "elif (temp==30)>=25 or (temp==30)>25:\n",
    "    print(\"cool weather\")\n",
    "else:\n",
    "        print(\"warm weather\")"
   ]
  },
  {
   "cell_type": "code",
   "execution_count": 47,
   "id": "7d1f4bbc",
   "metadata": {},
   "outputs": [
    {
     "name": "stdout",
     "output_type": "stream",
     "text": [
      "enter a string:akash\n",
      "enter a string:nishad\n",
      "strings are not equal\n"
     ]
    }
   ],
   "source": [
    "name1=str(input(\"enter a string:\")) \n",
    "name2=str(input(\"enter a string:\"))  \n",
    "if  name1==name2:\n",
    "  print('both the strings are equal')  \n",
    "else:\n",
    "   print('strings are not equal')"
   ]
  },
  {
   "cell_type": "code",
   "execution_count": 50,
   "id": "e06aeb62",
   "metadata": {},
   "outputs": [
    {
     "name": "stdout",
     "output_type": "stream",
     "text": [
      "20 is divisible by either 2 or 5\n"
     ]
    }
   ],
   "source": [
    "a = 20\n",
    "  \n",
    "if not a:\n",
    "    print(\"Boolean value of a is True\")\n",
    "  \n",
    "if not (a%2 == 0 or a%5 == 0):\n",
    "    print(\"20 is not divisible by either 2 or 5\")\n",
    "else:\n",
    "    print(\"20 is divisible by either 2 or 5\")"
   ]
  },
  {
   "cell_type": "code",
   "execution_count": 52,
   "id": "087db189",
   "metadata": {},
   "outputs": [
    {
     "name": "stdout",
     "output_type": "stream",
     "text": [
      "enter 1st no. :75\n",
      "enter 2nd no. :95\n",
      "false\n"
     ]
    }
   ],
   "source": [
    "a=float(input(\"enter 1st no. :\"))\n",
    "b=float(input(\"enter 2nd no. :\"))\n",
    "if a==b and a>=b:\n",
    "    print(\"a is greater and equal\")\n",
    "elif not(a==b and a>=b):\n",
    "    print(\"false\")"
   ]
  },
  {
   "cell_type": "code",
   "execution_count": 68,
   "id": "87af5f5a",
   "metadata": {},
   "outputs": [
    {
     "name": "stdout",
     "output_type": "stream",
     "text": [
      "enter str1 :nitin\n",
      "str1 is palindrome\n"
     ]
    }
   ],
   "source": [
    "str1=str(input(\"enter str1 :\"))\n",
    "str2=str1[::-1]\n",
    "if str1 == str2 :\n",
    "  print(\"str1 is palindrome\")\n",
    "else :\n",
    "  print(\"str1 is not palindrome\")"
   ]
  },
  {
   "cell_type": "code",
   "execution_count": 70,
   "id": "e55cc8cc",
   "metadata": {},
   "outputs": [
    {
     "name": "stdout",
     "output_type": "stream",
     "text": [
      "enter str1 :nitin\n"
     ]
    },
    {
     "data": {
      "text/plain": [
       "'nitin'"
      ]
     },
     "execution_count": 70,
     "metadata": {},
     "output_type": "execute_result"
    }
   ],
   "source": [
    "str1=str(input(\"enter str1 :\"))\n",
    "str2=str1[::-1]\n",
    "str2"
   ]
  },
  {
   "cell_type": "markdown",
   "id": "75011748",
   "metadata": {},
   "source": [
    "### PYTHON LOOPS"
   ]
  },
  {
   "cell_type": "code",
   "execution_count": 72,
   "id": "98716c81",
   "metadata": {},
   "outputs": [
    {
     "name": "stdout",
     "output_type": "stream",
     "text": [
      "akash\n",
      "nishad\n",
      "kapil\n",
      "tuba\n"
     ]
    }
   ],
   "source": [
    "NAMES=[\"akash\",\"nishad\",\"kapil\",\"tuba\"]\n",
    "for x in NAMES:\n",
    "    print(x)"
   ]
  },
  {
   "cell_type": "code",
   "execution_count": 73,
   "id": "c1b1753d",
   "metadata": {},
   "outputs": [
    {
     "name": "stdout",
     "output_type": "stream",
     "text": [
      "a\n",
      "k\n",
      "a\n",
      "s\n",
      "h\n"
     ]
    }
   ],
   "source": [
    "for x in \"akash\":\n",
    "    print(x)"
   ]
  },
  {
   "cell_type": "code",
   "execution_count": 74,
   "id": "6c5979d1",
   "metadata": {},
   "outputs": [
    {
     "name": "stdout",
     "output_type": "stream",
     "text": [
      "akash\n",
      "nishad\n",
      "kapil\n"
     ]
    }
   ],
   "source": [
    "# break statement\n",
    "NAMES=[\"akash\",\"nishad\",\"kapil\",\"tuba\"]\n",
    "for x in NAMES:\n",
    "    print(x)\n",
    "    if x==\"kapil\":\n",
    "        break"
   ]
  },
  {
   "cell_type": "code",
   "execution_count": 75,
   "id": "9027ec70",
   "metadata": {},
   "outputs": [
    {
     "name": "stdout",
     "output_type": "stream",
     "text": [
      "akash\n",
      "nishad\n",
      "kapil\n"
     ]
    }
   ],
   "source": [
    "NAMES=[\"akash\",\"nishad\",\"kapil\",\"tuba\"]\n",
    "for x in NAMES:\n",
    "    print(x)\n",
    "    if x==\"kapil\":\n",
    "        break\n",
    "        print(x)"
   ]
  },
  {
   "cell_type": "code",
   "execution_count": 82,
   "id": "622ac16c",
   "metadata": {},
   "outputs": [
    {
     "name": "stdout",
     "output_type": "stream",
     "text": [
      "0\n",
      "1\n",
      "2\n",
      "3\n",
      "4\n",
      "5\n",
      "6\n",
      "7\n",
      "8\n",
      "9\n",
      "10\n",
      "11\n",
      "12\n",
      "13\n",
      "14\n",
      "15\n",
      "16\n",
      "17\n",
      "18\n",
      "19\n"
     ]
    }
   ],
   "source": [
    "for x in range(20):\n",
    "    print(x)"
   ]
  },
  {
   "cell_type": "code",
   "execution_count": 83,
   "id": "2129e8f9",
   "metadata": {},
   "outputs": [
    {
     "name": "stdout",
     "output_type": "stream",
     "text": [
      "50\n",
      "51\n",
      "52\n",
      "53\n",
      "54\n",
      "55\n",
      "56\n",
      "57\n",
      "58\n",
      "59\n",
      "60\n",
      "61\n",
      "62\n",
      "63\n",
      "64\n",
      "65\n",
      "66\n",
      "67\n",
      "68\n",
      "69\n"
     ]
    }
   ],
   "source": [
    "for x in range(50,70):\n",
    "    print(x)"
   ]
  },
  {
   "cell_type": "code",
   "execution_count": 78,
   "id": "5ddb0451",
   "metadata": {},
   "outputs": [
    {
     "name": "stdout",
     "output_type": "stream",
     "text": [
      "A\n",
      "k\n",
      "a\n",
      "s\n"
     ]
    }
   ],
   "source": [
    "for name in\"Akash\":\n",
    "    if name==\"h\":\n",
    "        break\n",
    "    print(name)"
   ]
  },
  {
   "cell_type": "code",
   "execution_count": 80,
   "id": "3777d11c",
   "metadata": {},
   "outputs": [
    {
     "name": "stdout",
     "output_type": "stream",
     "text": [
      "A\n",
      "k\n",
      "a\n",
      "s\n",
      " \n",
      "p\n",
      "a\n",
      "l\n",
      " \n",
      "g\n",
      "y\n",
      "a\n",
      "n\n",
      "p\n",
      "r\n",
      "a\n",
      "k\n",
      "a\n",
      "s\n"
     ]
    }
   ],
   "source": [
    "for name in\"Akash pal gyanprakash\":\n",
    "    if name==\"h\":\n",
    "        continue\n",
    "    print(name)"
   ]
  },
  {
   "cell_type": "code",
   "execution_count": 81,
   "id": "1b988492",
   "metadata": {},
   "outputs": [
    {
     "name": "stdout",
     "output_type": "stream",
     "text": [
      "s\n",
      "a\n",
      "u\n"
     ]
    }
   ],
   "source": [
    "for name in \"saurabh\":\n",
    "    if name=='r':\n",
    "        break\n",
    "    print(name)"
   ]
  },
  {
   "cell_type": "code",
   "execution_count": 85,
   "id": "39ecfe89",
   "metadata": {},
   "outputs": [
    {
     "name": "stdout",
     "output_type": "stream",
     "text": [
      "akash\n",
      "Counter is 0\n",
      "nishad\n",
      "Counter is 1\n",
      "kapil\n",
      "Counter is 2\n",
      "tuba\n",
      "Counter is 3\n"
     ]
    }
   ],
   "source": [
    "students = [\"akash\",\"nishad\",\"kapil\",\"tuba\"]\n",
    "\n",
    "for student in range(0, len(students)):\n",
    "    if student == 4:\n",
    "        break\n",
    "    else:\n",
    "        print(students[student])\n",
    "\n",
    "    print(\"Counter is \" + str(student))"
   ]
  },
  {
   "cell_type": "code",
   "execution_count": 87,
   "id": "bce5c35b",
   "metadata": {},
   "outputs": [
    {
     "name": "stdout",
     "output_type": "stream",
     "text": [
      "monday\n",
      "tuesday\n",
      "wednesday\n",
      "thursday\n"
     ]
    }
   ],
   "source": [
    "days=['monday','tuesday','wednesday','thursday','friday','saturday','sunday']\n",
    "for x in days:\n",
    "    if x =='friday':\n",
    "       break\n",
    "    print(x)"
   ]
  },
  {
   "cell_type": "markdown",
   "id": "65f464d0",
   "metadata": {},
   "source": [
    "### WHILE LOOPS"
   ]
  },
  {
   "cell_type": "code",
   "execution_count": 89,
   "id": "3b2a732a",
   "metadata": {},
   "outputs": [
    {
     "name": "stdout",
     "output_type": "stream",
     "text": [
      "Addition is: 5050\n"
     ]
    }
   ],
   "source": [
    "# ADDITION OF FIRST N NUMBERS\n",
    "num=100\n",
    "addition=0\n",
    "i=1\n",
    "while i<=num:\n",
    "    addition=addition+i\n",
    "    i=i+1\n",
    "print(\"Addition is:\",addition)"
   ]
  },
  {
   "cell_type": "markdown",
   "id": "6ee68220",
   "metadata": {},
   "source": [
    "### for loops"
   ]
  },
  {
   "cell_type": "code",
   "execution_count": 90,
   "id": "4354c23f",
   "metadata": {},
   "outputs": [
    {
     "name": "stdout",
     "output_type": "stream",
     "text": [
      "Addition is: 165\n"
     ]
    }
   ],
   "source": [
    "number=range(10,21)\n",
    "addition=0\n",
    "for i in number:\n",
    "    addition=addition+i\n",
    "print(\"Addition is:\",addition)"
   ]
  },
  {
   "cell_type": "markdown",
   "id": "00b7c62e",
   "metadata": {},
   "source": [
    "### BREAK"
   ]
  },
  {
   "cell_type": "code",
   "execution_count": 91,
   "id": "025abd10",
   "metadata": {},
   "outputs": [
    {
     "name": "stdout",
     "output_type": "stream",
     "text": [
      "d\n",
      "a\n",
      "t\n",
      "a\n",
      "S\n",
      "c\n",
      "i\n",
      "The for loop stopped executing\n"
     ]
    }
   ],
   "source": [
    "text=\"dataScientist\"\n",
    "for letter in text:\n",
    "    if letter==\"e\":\n",
    "        break\n",
    "    print(letter)\n",
    "print(\"The for loop stopped executing\")"
   ]
  },
  {
   "cell_type": "code",
   "execution_count": 95,
   "id": "f91de2a0",
   "metadata": {},
   "outputs": [
    {
     "name": "stdout",
     "output_type": "stream",
     "text": [
      "d\n",
      "a\n",
      "t\n",
      "a\n",
      "S\n",
      "c\n",
      "i\n",
      "The loop leave a space here\n",
      "n\n",
      "t\n",
      "i\n",
      "s\n",
      "t\n"
     ]
    }
   ],
   "source": [
    "text=\"dataScientist\"\n",
    "for letter in text:\n",
    "    if letter==\"e\":\n",
    "        print(\"The loop leave a space here\")\n",
    "        continue\n",
    "    print(letter)"
   ]
  },
  {
   "cell_type": "code",
   "execution_count": 96,
   "id": "200633d2",
   "metadata": {},
   "outputs": [
    {
     "name": "stdout",
     "output_type": "stream",
     "text": [
      "Enter number of levels:5\n",
      "1 \n",
      "\n",
      "2 2 \n",
      "\n",
      "3 3 3 \n",
      "\n",
      "4 4 4 4 \n",
      "\n",
      "5 5 5 5 5 \n",
      "\n"
     ]
    }
   ],
   "source": [
    "levels=int(input(\"Enter number of levels:\"))\n",
    "for level in range(1,levels+1):\n",
    "    for num in range(level):\n",
    "        print(level,end=\" \")\n",
    "        \n",
    "    print(\"\\n\")"
   ]
  }
 ],
 "metadata": {
  "kernelspec": {
   "display_name": "Python 3 (ipykernel)",
   "language": "python",
   "name": "python3"
  },
  "language_info": {
   "codemirror_mode": {
    "name": "ipython",
    "version": 3
   },
   "file_extension": ".py",
   "mimetype": "text/x-python",
   "name": "python",
   "nbconvert_exporter": "python",
   "pygments_lexer": "ipython3",
   "version": "3.9.7"
  }
 },
 "nbformat": 4,
 "nbformat_minor": 5
}
